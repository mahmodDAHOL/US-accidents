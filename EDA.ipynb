{
  "cells": [
    {
      "cell_type": "markdown",
      "metadata": {
        "id": "view-in-github",
        "colab_type": "text"
      },
      "source": [
        "<a href=\"https://colab.research.google.com/github/mahmodDAHOL/US-accidents/blob/main/EDA.ipynb\" target=\"_parent\"><img src=\"https://colab.research.google.com/assets/colab-badge.svg\" alt=\"Open In Colab\"/></a>"
      ]
    },
    {
      "cell_type": "code",
      "execution_count": 1,
      "metadata": {
        "colab": {
          "base_uri": "https://localhost:8080/"
        },
        "id": "OxrAoQQoLkhO",
        "outputId": "3821f498-0a9d-4a41-b736-19ae8ceeac2e"
      },
      "outputs": [
        {
          "output_type": "stream",
          "name": "stdout",
          "text": [
            "Looking in indexes: https://pypi.org/simple, https://us-python.pkg.dev/colab-wheels/public/simple/\n",
            "Collecting opendatasets\n",
            "  Downloading opendatasets-0.1.22-py3-none-any.whl (15 kB)\n",
            "Requirement already satisfied: folium in /usr/local/lib/python3.8/dist-packages (0.12.1.post1)\n",
            "Requirement already satisfied: click in /usr/local/lib/python3.8/dist-packages (from opendatasets) (8.1.3)\n",
            "Requirement already satisfied: kaggle in /usr/local/lib/python3.8/dist-packages (from opendatasets) (1.5.12)\n",
            "Requirement already satisfied: tqdm in /usr/local/lib/python3.8/dist-packages (from opendatasets) (4.64.1)\n",
            "Requirement already satisfied: jinja2>=2.9 in /usr/local/lib/python3.8/dist-packages (from folium) (3.1.2)\n",
            "Requirement already satisfied: branca>=0.3.0 in /usr/local/lib/python3.8/dist-packages (from folium) (0.6.0)\n",
            "Requirement already satisfied: requests in /usr/local/lib/python3.8/dist-packages (from folium) (2.25.1)\n",
            "Requirement already satisfied: numpy in /usr/local/lib/python3.8/dist-packages (from folium) (1.22.4)\n",
            "Requirement already satisfied: MarkupSafe>=2.0 in /usr/local/lib/python3.8/dist-packages (from jinja2>=2.9->folium) (2.1.2)\n",
            "Requirement already satisfied: certifi in /usr/local/lib/python3.8/dist-packages (from kaggle->opendatasets) (2022.12.7)\n",
            "Requirement already satisfied: six>=1.10 in /usr/local/lib/python3.8/dist-packages (from kaggle->opendatasets) (1.15.0)\n",
            "Requirement already satisfied: urllib3 in /usr/local/lib/python3.8/dist-packages (from kaggle->opendatasets) (1.26.14)\n",
            "Requirement already satisfied: python-slugify in /usr/local/lib/python3.8/dist-packages (from kaggle->opendatasets) (8.0.1)\n",
            "Requirement already satisfied: python-dateutil in /usr/local/lib/python3.8/dist-packages (from kaggle->opendatasets) (2.8.2)\n",
            "Requirement already satisfied: chardet<5,>=3.0.2 in /usr/local/lib/python3.8/dist-packages (from requests->folium) (4.0.0)\n",
            "Requirement already satisfied: idna<3,>=2.5 in /usr/local/lib/python3.8/dist-packages (from requests->folium) (2.10)\n",
            "Requirement already satisfied: text-unidecode>=1.3 in /usr/local/lib/python3.8/dist-packages (from python-slugify->kaggle->opendatasets) (1.3)\n",
            "Installing collected packages: opendatasets\n",
            "Successfully installed opendatasets-0.1.22\n"
          ]
        }
      ],
      "source": [
        "!pip install opendatasets folium "
      ]
    },
    {
      "cell_type": "code",
      "execution_count": 2,
      "metadata": {
        "colab": {
          "base_uri": "https://localhost:8080/"
        },
        "id": "IzCark8uMuoB",
        "outputId": "626155db-5102-4142-c786-35298bde93e2"
      },
      "outputs": [
        {
          "output_type": "stream",
          "name": "stdout",
          "text": [
            "Please provide your Kaggle credentials to download this dataset. Learn more: http://bit.ly/kaggle-creds\n",
            "Your Kaggle username: mahmodaldahool\n",
            "Your Kaggle Key: ··········\n",
            "Downloading us-accidents.zip to ./us-accidents\n"
          ]
        },
        {
          "output_type": "stream",
          "name": "stderr",
          "text": [
            "100%|██████████| 269M/269M [00:02<00:00, 109MB/s]\n"
          ]
        },
        {
          "output_type": "stream",
          "name": "stdout",
          "text": [
            "\n"
          ]
        }
      ],
      "source": [
        "import opendatasets as od\n",
        "import warnings\n",
        "from pandas.core.common import SettingWithCopyWarning\n",
        "import pandas as pd\n",
        "import matplotlib.pyplot as plt\n",
        "from typing import List\n",
        "import numpy as np\n",
        "from folium.plugins import HeatMap\n",
        "import folium\n",
        "\n",
        "\n",
        "warnings.simplefilter(action=\"ignore\", category=SettingWithCopyWarning)\n",
        "plt.rcParams['figure.figsize'] = [10, 5]\n",
        "dataset_url = 'https://www.kaggle.com/datasets/sobhanmoosavi/us-accidents'\n",
        "\n",
        "od.download(dataset_url)"
      ]
    },
    {
      "cell_type": "code",
      "source": [
        "df = pd.read_csv(\"/content/us-accidents/US_Accidents_Dec21_updated.csv\")"
      ],
      "metadata": {
        "id": "UCKCmWpGeqT5"
      },
      "execution_count": 3,
      "outputs": []
    },
    {
      "cell_type": "code",
      "execution_count": 4,
      "metadata": {
        "colab": {
          "base_uri": "https://localhost:8080/",
          "height": 439
        },
        "id": "K3hG8magRhz5",
        "outputId": "7de1ec08-cd4e-49f9-afbf-65a3bdf2a822"
      },
      "outputs": [
        {
          "output_type": "execute_result",
          "data": {
            "text/plain": [
              "    ID  Severity           Start_Time             End_Time  Start_Lat  \\\n",
              "0  A-1         3  2016-02-08 00:37:08  2016-02-08 06:37:08  40.108910   \n",
              "1  A-2         2  2016-02-08 05:56:20  2016-02-08 11:56:20  39.865420   \n",
              "2  A-3         2  2016-02-08 06:15:39  2016-02-08 12:15:39  39.102660   \n",
              "3  A-4         2  2016-02-08 06:51:45  2016-02-08 12:51:45  41.062130   \n",
              "4  A-5         3  2016-02-08 07:53:43  2016-02-08 13:53:43  39.172393   \n",
              "\n",
              "   Start_Lng    End_Lat    End_Lng  Distance(mi)  \\\n",
              "0 -83.092860  40.112060 -83.031870         3.230   \n",
              "1 -84.062800  39.865010 -84.048730         0.747   \n",
              "2 -84.524680  39.102090 -84.523960         0.055   \n",
              "3 -81.537840  41.062170 -81.535470         0.123   \n",
              "4 -84.492792  39.170476 -84.501798         0.500   \n",
              "\n",
              "                                         Description  ...  Roundabout Station  \\\n",
              "0  Between Sawmill Rd/Exit 20 and OH-315/Olentang...  ...       False   False   \n",
              "1                 At OH-4/OH-235/Exit 41 - Accident.  ...       False   False   \n",
              "2                   At I-71/US-50/Exit 1 - Accident.  ...       False   False   \n",
              "3                    At Dart Ave/Exit 21 - Accident.  ...       False   False   \n",
              "4                 At Mitchell Ave/Exit 6 - Accident.  ...       False   False   \n",
              "\n",
              "    Stop Traffic_Calming Traffic_Signal Turning_Loop Sunrise_Sunset  \\\n",
              "0  False           False          False        False          Night   \n",
              "1  False           False          False        False          Night   \n",
              "2  False           False          False        False          Night   \n",
              "3  False           False          False        False          Night   \n",
              "4  False           False          False        False            Day   \n",
              "\n",
              "  Civil_Twilight Nautical_Twilight Astronomical_Twilight  \n",
              "0          Night             Night                 Night  \n",
              "1          Night             Night                 Night  \n",
              "2          Night             Night                   Day  \n",
              "3          Night               Day                   Day  \n",
              "4            Day               Day                   Day  \n",
              "\n",
              "[5 rows x 47 columns]"
            ],
            "text/html": [
              "\n",
              "  <div id=\"df-bcc08d78-3359-47e0-9dea-2e210d3e2fee\">\n",
              "    <div class=\"colab-df-container\">\n",
              "      <div>\n",
              "<style scoped>\n",
              "    .dataframe tbody tr th:only-of-type {\n",
              "        vertical-align: middle;\n",
              "    }\n",
              "\n",
              "    .dataframe tbody tr th {\n",
              "        vertical-align: top;\n",
              "    }\n",
              "\n",
              "    .dataframe thead th {\n",
              "        text-align: right;\n",
              "    }\n",
              "</style>\n",
              "<table border=\"1\" class=\"dataframe\">\n",
              "  <thead>\n",
              "    <tr style=\"text-align: right;\">\n",
              "      <th></th>\n",
              "      <th>ID</th>\n",
              "      <th>Severity</th>\n",
              "      <th>Start_Time</th>\n",
              "      <th>End_Time</th>\n",
              "      <th>Start_Lat</th>\n",
              "      <th>Start_Lng</th>\n",
              "      <th>End_Lat</th>\n",
              "      <th>End_Lng</th>\n",
              "      <th>Distance(mi)</th>\n",
              "      <th>Description</th>\n",
              "      <th>...</th>\n",
              "      <th>Roundabout</th>\n",
              "      <th>Station</th>\n",
              "      <th>Stop</th>\n",
              "      <th>Traffic_Calming</th>\n",
              "      <th>Traffic_Signal</th>\n",
              "      <th>Turning_Loop</th>\n",
              "      <th>Sunrise_Sunset</th>\n",
              "      <th>Civil_Twilight</th>\n",
              "      <th>Nautical_Twilight</th>\n",
              "      <th>Astronomical_Twilight</th>\n",
              "    </tr>\n",
              "  </thead>\n",
              "  <tbody>\n",
              "    <tr>\n",
              "      <th>0</th>\n",
              "      <td>A-1</td>\n",
              "      <td>3</td>\n",
              "      <td>2016-02-08 00:37:08</td>\n",
              "      <td>2016-02-08 06:37:08</td>\n",
              "      <td>40.108910</td>\n",
              "      <td>-83.092860</td>\n",
              "      <td>40.112060</td>\n",
              "      <td>-83.031870</td>\n",
              "      <td>3.230</td>\n",
              "      <td>Between Sawmill Rd/Exit 20 and OH-315/Olentang...</td>\n",
              "      <td>...</td>\n",
              "      <td>False</td>\n",
              "      <td>False</td>\n",
              "      <td>False</td>\n",
              "      <td>False</td>\n",
              "      <td>False</td>\n",
              "      <td>False</td>\n",
              "      <td>Night</td>\n",
              "      <td>Night</td>\n",
              "      <td>Night</td>\n",
              "      <td>Night</td>\n",
              "    </tr>\n",
              "    <tr>\n",
              "      <th>1</th>\n",
              "      <td>A-2</td>\n",
              "      <td>2</td>\n",
              "      <td>2016-02-08 05:56:20</td>\n",
              "      <td>2016-02-08 11:56:20</td>\n",
              "      <td>39.865420</td>\n",
              "      <td>-84.062800</td>\n",
              "      <td>39.865010</td>\n",
              "      <td>-84.048730</td>\n",
              "      <td>0.747</td>\n",
              "      <td>At OH-4/OH-235/Exit 41 - Accident.</td>\n",
              "      <td>...</td>\n",
              "      <td>False</td>\n",
              "      <td>False</td>\n",
              "      <td>False</td>\n",
              "      <td>False</td>\n",
              "      <td>False</td>\n",
              "      <td>False</td>\n",
              "      <td>Night</td>\n",
              "      <td>Night</td>\n",
              "      <td>Night</td>\n",
              "      <td>Night</td>\n",
              "    </tr>\n",
              "    <tr>\n",
              "      <th>2</th>\n",
              "      <td>A-3</td>\n",
              "      <td>2</td>\n",
              "      <td>2016-02-08 06:15:39</td>\n",
              "      <td>2016-02-08 12:15:39</td>\n",
              "      <td>39.102660</td>\n",
              "      <td>-84.524680</td>\n",
              "      <td>39.102090</td>\n",
              "      <td>-84.523960</td>\n",
              "      <td>0.055</td>\n",
              "      <td>At I-71/US-50/Exit 1 - Accident.</td>\n",
              "      <td>...</td>\n",
              "      <td>False</td>\n",
              "      <td>False</td>\n",
              "      <td>False</td>\n",
              "      <td>False</td>\n",
              "      <td>False</td>\n",
              "      <td>False</td>\n",
              "      <td>Night</td>\n",
              "      <td>Night</td>\n",
              "      <td>Night</td>\n",
              "      <td>Day</td>\n",
              "    </tr>\n",
              "    <tr>\n",
              "      <th>3</th>\n",
              "      <td>A-4</td>\n",
              "      <td>2</td>\n",
              "      <td>2016-02-08 06:51:45</td>\n",
              "      <td>2016-02-08 12:51:45</td>\n",
              "      <td>41.062130</td>\n",
              "      <td>-81.537840</td>\n",
              "      <td>41.062170</td>\n",
              "      <td>-81.535470</td>\n",
              "      <td>0.123</td>\n",
              "      <td>At Dart Ave/Exit 21 - Accident.</td>\n",
              "      <td>...</td>\n",
              "      <td>False</td>\n",
              "      <td>False</td>\n",
              "      <td>False</td>\n",
              "      <td>False</td>\n",
              "      <td>False</td>\n",
              "      <td>False</td>\n",
              "      <td>Night</td>\n",
              "      <td>Night</td>\n",
              "      <td>Day</td>\n",
              "      <td>Day</td>\n",
              "    </tr>\n",
              "    <tr>\n",
              "      <th>4</th>\n",
              "      <td>A-5</td>\n",
              "      <td>3</td>\n",
              "      <td>2016-02-08 07:53:43</td>\n",
              "      <td>2016-02-08 13:53:43</td>\n",
              "      <td>39.172393</td>\n",
              "      <td>-84.492792</td>\n",
              "      <td>39.170476</td>\n",
              "      <td>-84.501798</td>\n",
              "      <td>0.500</td>\n",
              "      <td>At Mitchell Ave/Exit 6 - Accident.</td>\n",
              "      <td>...</td>\n",
              "      <td>False</td>\n",
              "      <td>False</td>\n",
              "      <td>False</td>\n",
              "      <td>False</td>\n",
              "      <td>False</td>\n",
              "      <td>False</td>\n",
              "      <td>Day</td>\n",
              "      <td>Day</td>\n",
              "      <td>Day</td>\n",
              "      <td>Day</td>\n",
              "    </tr>\n",
              "  </tbody>\n",
              "</table>\n",
              "<p>5 rows × 47 columns</p>\n",
              "</div>\n",
              "      <button class=\"colab-df-convert\" onclick=\"convertToInteractive('df-bcc08d78-3359-47e0-9dea-2e210d3e2fee')\"\n",
              "              title=\"Convert this dataframe to an interactive table.\"\n",
              "              style=\"display:none;\">\n",
              "        \n",
              "  <svg xmlns=\"http://www.w3.org/2000/svg\" height=\"24px\"viewBox=\"0 0 24 24\"\n",
              "       width=\"24px\">\n",
              "    <path d=\"M0 0h24v24H0V0z\" fill=\"none\"/>\n",
              "    <path d=\"M18.56 5.44l.94 2.06.94-2.06 2.06-.94-2.06-.94-.94-2.06-.94 2.06-2.06.94zm-11 1L8.5 8.5l.94-2.06 2.06-.94-2.06-.94L8.5 2.5l-.94 2.06-2.06.94zm10 10l.94 2.06.94-2.06 2.06-.94-2.06-.94-.94-2.06-.94 2.06-2.06.94z\"/><path d=\"M17.41 7.96l-1.37-1.37c-.4-.4-.92-.59-1.43-.59-.52 0-1.04.2-1.43.59L10.3 9.45l-7.72 7.72c-.78.78-.78 2.05 0 2.83L4 21.41c.39.39.9.59 1.41.59.51 0 1.02-.2 1.41-.59l7.78-7.78 2.81-2.81c.8-.78.8-2.07 0-2.86zM5.41 20L4 18.59l7.72-7.72 1.47 1.35L5.41 20z\"/>\n",
              "  </svg>\n",
              "      </button>\n",
              "      \n",
              "  <style>\n",
              "    .colab-df-container {\n",
              "      display:flex;\n",
              "      flex-wrap:wrap;\n",
              "      gap: 12px;\n",
              "    }\n",
              "\n",
              "    .colab-df-convert {\n",
              "      background-color: #E8F0FE;\n",
              "      border: none;\n",
              "      border-radius: 50%;\n",
              "      cursor: pointer;\n",
              "      display: none;\n",
              "      fill: #1967D2;\n",
              "      height: 32px;\n",
              "      padding: 0 0 0 0;\n",
              "      width: 32px;\n",
              "    }\n",
              "\n",
              "    .colab-df-convert:hover {\n",
              "      background-color: #E2EBFA;\n",
              "      box-shadow: 0px 1px 2px rgba(60, 64, 67, 0.3), 0px 1px 3px 1px rgba(60, 64, 67, 0.15);\n",
              "      fill: #174EA6;\n",
              "    }\n",
              "\n",
              "    [theme=dark] .colab-df-convert {\n",
              "      background-color: #3B4455;\n",
              "      fill: #D2E3FC;\n",
              "    }\n",
              "\n",
              "    [theme=dark] .colab-df-convert:hover {\n",
              "      background-color: #434B5C;\n",
              "      box-shadow: 0px 1px 3px 1px rgba(0, 0, 0, 0.15);\n",
              "      filter: drop-shadow(0px 1px 2px rgba(0, 0, 0, 0.3));\n",
              "      fill: #FFFFFF;\n",
              "    }\n",
              "  </style>\n",
              "\n",
              "      <script>\n",
              "        const buttonEl =\n",
              "          document.querySelector('#df-bcc08d78-3359-47e0-9dea-2e210d3e2fee button.colab-df-convert');\n",
              "        buttonEl.style.display =\n",
              "          google.colab.kernel.accessAllowed ? 'block' : 'none';\n",
              "\n",
              "        async function convertToInteractive(key) {\n",
              "          const element = document.querySelector('#df-bcc08d78-3359-47e0-9dea-2e210d3e2fee');\n",
              "          const dataTable =\n",
              "            await google.colab.kernel.invokeFunction('convertToInteractive',\n",
              "                                                     [key], {});\n",
              "          if (!dataTable) return;\n",
              "\n",
              "          const docLinkHtml = 'Like what you see? Visit the ' +\n",
              "            '<a target=\"_blank\" href=https://colab.research.google.com/notebooks/data_table.ipynb>data table notebook</a>'\n",
              "            + ' to learn more about interactive tables.';\n",
              "          element.innerHTML = '';\n",
              "          dataTable['output_type'] = 'display_data';\n",
              "          await google.colab.output.renderOutput(dataTable, element);\n",
              "          const docLink = document.createElement('div');\n",
              "          docLink.innerHTML = docLinkHtml;\n",
              "          element.appendChild(docLink);\n",
              "        }\n",
              "      </script>\n",
              "    </div>\n",
              "  </div>\n",
              "  "
            ]
          },
          "metadata": {},
          "execution_count": 4
        }
      ],
      "source": [
        "df.head()"
      ]
    },
    {
      "cell_type": "code",
      "execution_count": 5,
      "metadata": {
        "colab": {
          "base_uri": "https://localhost:8080/"
        },
        "id": "3fDzuZ3RRwPr",
        "outputId": "84aefa04-e00f-4bba-eeae-749a34bf9e02"
      },
      "outputs": [
        {
          "output_type": "stream",
          "name": "stdout",
          "text": [
            "<class 'pandas.core.frame.DataFrame'>\n",
            "RangeIndex: 2845342 entries, 0 to 2845341\n",
            "Data columns (total 47 columns):\n",
            " #   Column                 Dtype  \n",
            "---  ------                 -----  \n",
            " 0   ID                     object \n",
            " 1   Severity               int64  \n",
            " 2   Start_Time             object \n",
            " 3   End_Time               object \n",
            " 4   Start_Lat              float64\n",
            " 5   Start_Lng              float64\n",
            " 6   End_Lat                float64\n",
            " 7   End_Lng                float64\n",
            " 8   Distance(mi)           float64\n",
            " 9   Description            object \n",
            " 10  Number                 float64\n",
            " 11  Street                 object \n",
            " 12  Side                   object \n",
            " 13  City                   object \n",
            " 14  County                 object \n",
            " 15  State                  object \n",
            " 16  Zipcode                object \n",
            " 17  Country                object \n",
            " 18  Timezone               object \n",
            " 19  Airport_Code           object \n",
            " 20  Weather_Timestamp      object \n",
            " 21  Temperature(F)         float64\n",
            " 22  Wind_Chill(F)          float64\n",
            " 23  Humidity(%)            float64\n",
            " 24  Pressure(in)           float64\n",
            " 25  Visibility(mi)         float64\n",
            " 26  Wind_Direction         object \n",
            " 27  Wind_Speed(mph)        float64\n",
            " 28  Precipitation(in)      float64\n",
            " 29  Weather_Condition      object \n",
            " 30  Amenity                bool   \n",
            " 31  Bump                   bool   \n",
            " 32  Crossing               bool   \n",
            " 33  Give_Way               bool   \n",
            " 34  Junction               bool   \n",
            " 35  No_Exit                bool   \n",
            " 36  Railway                bool   \n",
            " 37  Roundabout             bool   \n",
            " 38  Station                bool   \n",
            " 39  Stop                   bool   \n",
            " 40  Traffic_Calming        bool   \n",
            " 41  Traffic_Signal         bool   \n",
            " 42  Turning_Loop           bool   \n",
            " 43  Sunrise_Sunset         object \n",
            " 44  Civil_Twilight         object \n",
            " 45  Nautical_Twilight      object \n",
            " 46  Astronomical_Twilight  object \n",
            "dtypes: bool(13), float64(13), int64(1), object(20)\n",
            "memory usage: 773.4+ MB\n"
          ]
        }
      ],
      "source": [
        "df.info()"
      ]
    },
    {
      "cell_type": "markdown",
      "source": [
        "## Null values"
      ],
      "metadata": {
        "id": "GhKQK2zZI1iB"
      }
    },
    {
      "cell_type": "code",
      "execution_count": 6,
      "metadata": {
        "id": "ANAs2RmhRzS2"
      },
      "outputs": [],
      "source": [
        "num_of_null = df.isna().sum().sort_values(ascending=False)"
      ]
    },
    {
      "cell_type": "markdown",
      "source": [
        "### plot number of null values for each variable"
      ],
      "metadata": {
        "id": "-_bBjnD-I9OP"
      }
    },
    {
      "cell_type": "code",
      "execution_count": 7,
      "metadata": {
        "colab": {
          "base_uri": "https://localhost:8080/",
          "height": 342
        },
        "id": "6jYqe-hvVBcD",
        "outputId": "c471d2e6-6891-42f9-e8a7-483c8e37dbbe"
      },
      "outputs": [
        {
          "output_type": "execute_result",
          "data": {
            "text/plain": [
              "<AxesSubplot:>"
            ]
          },
          "metadata": {},
          "execution_count": 7
        },
        {
          "output_type": "display_data",
          "data": {
            "text/plain": [
              "<Figure size 720x360 with 1 Axes>"
            ],
            "image/png": "[encoded data removed]"
          },
          "metadata": {
            "needs_background": "light"
          }
        }
      ],
      "source": [
        "len_of_data = len(df.index)\n",
        "num_of_null.where(num_of_null>0).dropna().plot(kind=\"barh\", logx=True)"
      ]
    },
    {
      "cell_type": "markdown",
      "source": [
        "### Remove null values from the DataFrame"
      ],
      "metadata": {
        "id": "_wyZnCGsJL15"
      }
    },
    {
      "cell_type": "code",
      "execution_count": 8,
      "metadata": {
        "id": "mQ-Q1W4jW2-V"
      },
      "outputs": [],
      "source": [
        "df.dropna(how='any', inplace=True)"
      ]
    },
    {
      "cell_type": "code",
      "execution_count": 9,
      "metadata": {
        "colab": {
          "base_uri": "https://localhost:8080/"
        },
        "id": "W82sBiunR-5y",
        "outputId": "4824d29c-38e4-4f9b-f37e-467ff756c1ee"
      },
      "outputs": [
        {
          "output_type": "execute_result",
          "data": {
            "text/plain": [
              "ID                       0\n",
              "No_Exit                  0\n",
              "Wind_Direction           0\n",
              "Wind_Speed(mph)          0\n",
              "Precipitation(in)        0\n",
              "Weather_Condition        0\n",
              "Amenity                  0\n",
              "Bump                     0\n",
              "Crossing                 0\n",
              "Give_Way                 0\n",
              "Junction                 0\n",
              "Railway                  0\n",
              "Pressure(in)             0\n",
              "Roundabout               0\n",
              "Station                  0\n",
              "Stop                     0\n",
              "Traffic_Calming          0\n",
              "Traffic_Signal           0\n",
              "Turning_Loop             0\n",
              "Sunrise_Sunset           0\n",
              "Civil_Twilight           0\n",
              "Nautical_Twilight        0\n",
              "Visibility(mi)           0\n",
              "Humidity(%)              0\n",
              "Severity                 0\n",
              "Street                   0\n",
              "Start_Time               0\n",
              "End_Time                 0\n",
              "Start_Lat                0\n",
              "Start_Lng                0\n",
              "End_Lat                  0\n",
              "End_Lng                  0\n",
              "Distance(mi)             0\n",
              "Description              0\n",
              "Number                   0\n",
              "Side                     0\n",
              "Wind_Chill(F)            0\n",
              "City                     0\n",
              "County                   0\n",
              "State                    0\n",
              "Zipcode                  0\n",
              "Country                  0\n",
              "Timezone                 0\n",
              "Airport_Code             0\n",
              "Weather_Timestamp        0\n",
              "Temperature(F)           0\n",
              "Astronomical_Twilight    0\n",
              "dtype: int64"
            ]
          },
          "metadata": {},
          "execution_count": 9
        }
      ],
      "source": [
        "df.isna().sum().sort_values(ascending=False)"
      ]
    },
    {
      "cell_type": "markdown",
      "source": [
        "## Select variables for EDA and show some important statistics"
      ],
      "metadata": {
        "id": "d8sgb2LOJSc9"
      }
    },
    {
      "cell_type": "code",
      "execution_count": 10,
      "metadata": {
        "colab": {
          "base_uri": "https://localhost:8080/",
          "height": 300
        },
        "id": "k7wbAAb2Uf9J",
        "outputId": "1eb43290-6038-40d5-a946-3947c6479d57"
      },
      "outputs": [
        {
          "output_type": "execute_result",
          "data": {
            "text/plain": [
              "            Severity  Temperature(F)  Visibility(mi)  Wind_Speed(mph)  \\\n",
              "count  943318.000000   943318.000000   943318.000000    943318.000000   \n",
              "mean        2.064917       63.833323        9.201041         7.131648   \n",
              "std         0.380617       18.162256        2.461330         5.412885   \n",
              "min         1.000000      -27.000000        0.000000         0.000000   \n",
              "25%         2.000000       51.000000       10.000000         3.000000   \n",
              "50%         2.000000       66.000000       10.000000         7.000000   \n",
              "75%         2.000000       78.000000       10.000000        10.000000   \n",
              "max         4.000000      196.000000      100.000000      1087.000000   \n",
              "\n",
              "           Start_Lat      Start_Lng        End_Lat        End_Lng  \n",
              "count  943318.000000  943318.000000  943318.000000  943318.000000  \n",
              "mean       35.069960     -95.102568      35.070232     -95.102271  \n",
              "std         5.796634      17.794343       5.796707      17.794098  \n",
              "min        24.566027    -124.517744      24.566013    -124.509263  \n",
              "25%        30.229957    -117.833342      30.230194    -117.833756  \n",
              "50%        34.976113     -86.136779      34.976497     -86.137776  \n",
              "75%        39.232680     -80.359477      39.232687     -80.358917  \n",
              "max        48.996539     -67.484130      48.998144     -67.484130  "
            ],
            "text/html": [
              "\n",
              "  <div id=\"df-0f013ea7-80a3-4935-8f97-45b4bf646c58\">\n",
              "    <div class=\"colab-df-container\">\n",
              "      <div>\n",
              "<style scoped>\n",
              "    .dataframe tbody tr th:only-of-type {\n",
              "        vertical-align: middle;\n",
              "    }\n",
              "\n",
              "    .dataframe tbody tr th {\n",
              "        vertical-align: top;\n",
              "    }\n",
              "\n",
              "    .dataframe thead th {\n",
              "        text-align: right;\n",
              "    }\n",
              "</style>\n",
              "<table border=\"1\" class=\"dataframe\">\n",
              "  <thead>\n",
              "    <tr style=\"text-align: right;\">\n",
              "      <th></th>\n",
              "      <th>Severity</th>\n",
              "      <th>Temperature(F)</th>\n",
              "      <th>Visibility(mi)</th>\n",
              "      <th>Wind_Speed(mph)</th>\n",
              "      <th>Start_Lat</th>\n",
              "      <th>Start_Lng</th>\n",
              "      <th>End_Lat</th>\n",
              "      <th>End_Lng</th>\n",
              "    </tr>\n",
              "  </thead>\n",
              "  <tbody>\n",
              "    <tr>\n",
              "      <th>count</th>\n",
              "      <td>943318.000000</td>\n",
              "      <td>943318.000000</td>\n",
              "      <td>943318.000000</td>\n",
              "      <td>943318.000000</td>\n",
              "      <td>943318.000000</td>\n",
              "      <td>943318.000000</td>\n",
              "      <td>943318.000000</td>\n",
              "      <td>943318.000000</td>\n",
              "    </tr>\n",
              "    <tr>\n",
              "      <th>mean</th>\n",
              "      <td>2.064917</td>\n",
              "      <td>63.833323</td>\n",
              "      <td>9.201041</td>\n",
              "      <td>7.131648</td>\n",
              "      <td>35.069960</td>\n",
              "      <td>-95.102568</td>\n",
              "      <td>35.070232</td>\n",
              "      <td>-95.102271</td>\n",
              "    </tr>\n",
              "    <tr>\n",
              "      <th>std</th>\n",
              "      <td>0.380617</td>\n",
              "      <td>18.162256</td>\n",
              "      <td>2.461330</td>\n",
              "      <td>5.412885</td>\n",
              "      <td>5.796634</td>\n",
              "      <td>17.794343</td>\n",
              "      <td>5.796707</td>\n",
              "      <td>17.794098</td>\n",
              "    </tr>\n",
              "    <tr>\n",
              "      <th>min</th>\n",
              "      <td>1.000000</td>\n",
              "      <td>-27.000000</td>\n",
              "      <td>0.000000</td>\n",
              "      <td>0.000000</td>\n",
              "      <td>24.566027</td>\n",
              "      <td>-124.517744</td>\n",
              "      <td>24.566013</td>\n",
              "      <td>-124.509263</td>\n",
              "    </tr>\n",
              "    <tr>\n",
              "      <th>25%</th>\n",
              "      <td>2.000000</td>\n",
              "      <td>51.000000</td>\n",
              "      <td>10.000000</td>\n",
              "      <td>3.000000</td>\n",
              "      <td>30.229957</td>\n",
              "      <td>-117.833342</td>\n",
              "      <td>30.230194</td>\n",
              "      <td>-117.833756</td>\n",
              "    </tr>\n",
              "    <tr>\n",
              "      <th>50%</th>\n",
              "      <td>2.000000</td>\n",
              "      <td>66.000000</td>\n",
              "      <td>10.000000</td>\n",
              "      <td>7.000000</td>\n",
              "      <td>34.976113</td>\n",
              "      <td>-86.136779</td>\n",
              "      <td>34.976497</td>\n",
              "      <td>-86.137776</td>\n",
              "    </tr>\n",
              "    <tr>\n",
              "      <th>75%</th>\n",
              "      <td>2.000000</td>\n",
              "      <td>78.000000</td>\n",
              "      <td>10.000000</td>\n",
              "      <td>10.000000</td>\n",
              "      <td>39.232680</td>\n",
              "      <td>-80.359477</td>\n",
              "      <td>39.232687</td>\n",
              "      <td>-80.358917</td>\n",
              "    </tr>\n",
              "    <tr>\n",
              "      <th>max</th>\n",
              "      <td>4.000000</td>\n",
              "      <td>196.000000</td>\n",
              "      <td>100.000000</td>\n",
              "      <td>1087.000000</td>\n",
              "      <td>48.996539</td>\n",
              "      <td>-67.484130</td>\n",
              "      <td>48.998144</td>\n",
              "      <td>-67.484130</td>\n",
              "    </tr>\n",
              "  </tbody>\n",
              "</table>\n",
              "</div>\n",
              "      <button class=\"colab-df-convert\" onclick=\"convertToInteractive('df-0f013ea7-80a3-4935-8f97-45b4bf646c58')\"\n",
              "              title=\"Convert this dataframe to an interactive table.\"\n",
              "              style=\"display:none;\">\n",
              "        \n",
              "  <svg xmlns=\"http://www.w3.org/2000/svg\" height=\"24px\"viewBox=\"0 0 24 24\"\n",
              "       width=\"24px\">\n",
              "    <path d=\"M0 0h24v24H0V0z\" fill=\"none\"/>\n",
              "    <path d=\"M18.56 5.44l.94 2.06.94-2.06 2.06-.94-2.06-.94-.94-2.06-.94 2.06-2.06.94zm-11 1L8.5 8.5l.94-2.06 2.06-.94-2.06-.94L8.5 2.5l-.94 2.06-2.06.94zm10 10l.94 2.06.94-2.06 2.06-.94-2.06-.94-.94-2.06-.94 2.06-2.06.94z\"/><path d=\"M17.41 7.96l-1.37-1.37c-.4-.4-.92-.59-1.43-.59-.52 0-1.04.2-1.43.59L10.3 9.45l-7.72 7.72c-.78.78-.78 2.05 0 2.83L4 21.41c.39.39.9.59 1.41.59.51 0 1.02-.2 1.41-.59l7.78-7.78 2.81-2.81c.8-.78.8-2.07 0-2.86zM5.41 20L4 18.59l7.72-7.72 1.47 1.35L5.41 20z\"/>\n",
              "  </svg>\n",
              "      </button>\n",
              "      \n",
              "  <style>\n",
              "    .colab-df-container {\n",
              "      display:flex;\n",
              "      flex-wrap:wrap;\n",
              "      gap: 12px;\n",
              "    }\n",
              "\n",
              "    .colab-df-convert {\n",
              "      background-color: #E8F0FE;\n",
              "      border: none;\n",
              "      border-radius: 50%;\n",
              "      cursor: pointer;\n",
              "      display: none;\n",
              "      fill: #1967D2;\n",
              "      height: 32px;\n",
              "      padding: 0 0 0 0;\n",
              "      width: 32px;\n",
              "    }\n",
              "\n",
              "    .colab-df-convert:hover {\n",
              "      background-color: #E2EBFA;\n",
              "      box-shadow: 0px 1px 2px rgba(60, 64, 67, 0.3), 0px 1px 3px 1px rgba(60, 64, 67, 0.15);\n",
              "      fill: #174EA6;\n",
              "    }\n",
              "\n",
              "    [theme=dark] .colab-df-convert {\n",
              "      background-color: #3B4455;\n",
              "      fill: #D2E3FC;\n",
              "    }\n",
              "\n",
              "    [theme=dark] .colab-df-convert:hover {\n",
              "      background-color: #434B5C;\n",
              "      box-shadow: 0px 1px 3px 1px rgba(0, 0, 0, 0.15);\n",
              "      filter: drop-shadow(0px 1px 2px rgba(0, 0, 0, 0.3));\n",
              "      fill: #FFFFFF;\n",
              "    }\n",
              "  </style>\n",
              "\n",
              "      <script>\n",
              "        const buttonEl =\n",
              "          document.querySelector('#df-0f013ea7-80a3-4935-8f97-45b4bf646c58 button.colab-df-convert');\n",
              "        buttonEl.style.display =\n",
              "          google.colab.kernel.accessAllowed ? 'block' : 'none';\n",
              "\n",
              "        async function convertToInteractive(key) {\n",
              "          const element = document.querySelector('#df-0f013ea7-80a3-4935-8f97-45b4bf646c58');\n",
              "          const dataTable =\n",
              "            await google.colab.kernel.invokeFunction('convertToInteractive',\n",
              "                                                     [key], {});\n",
              "          if (!dataTable) return;\n",
              "\n",
              "          const docLinkHtml = 'Like what you see? Visit the ' +\n",
              "            '<a target=\"_blank\" href=https://colab.research.google.com/notebooks/data_table.ipynb>data table notebook</a>'\n",
              "            + ' to learn more about interactive tables.';\n",
              "          element.innerHTML = '';\n",
              "          dataTable['output_type'] = 'display_data';\n",
              "          await google.colab.output.renderOutput(dataTable, element);\n",
              "          const docLink = document.createElement('div');\n",
              "          docLink.innerHTML = docLinkHtml;\n",
              "          element.appendChild(docLink);\n",
              "        }\n",
              "      </script>\n",
              "    </div>\n",
              "  </div>\n",
              "  "
            ]
          },
          "metadata": {},
          "execution_count": 10
        }
      ],
      "source": [
        "our_df = df[[\"Severity\", \"Street\", \"City\", \"Temperature(F)\", \"Visibility(mi)\", \"Wind_Speed(mph)\", \"Start_Lat\", \"Start_Lng\", \"End_Lat\", \"End_Lng\", \"Start_Time\"]]\n",
        "our_df.describe()"
      ]
    },
    {
      "cell_type": "markdown",
      "source": [
        "## this plot show that most of the accidents have a severity 2, where number 4 represents dangerous accidents and 1 represents simple accidents "
      ],
      "metadata": {
        "id": "a9Uejhq1Jf-U"
      }
    },
    {
      "cell_type": "code",
      "execution_count": 11,
      "metadata": {
        "colab": {
          "base_uri": "https://localhost:8080/",
          "height": 338
        },
        "id": "hyF-Z3QeEJ2K",
        "outputId": "a7b4c602-12c6-41c9-ea9c-14efd412db12"
      },
      "outputs": [
        {
          "output_type": "execute_result",
          "data": {
            "text/plain": [
              "<AxesSubplot:>"
            ]
          },
          "metadata": {},
          "execution_count": 11
        },
        {
          "output_type": "display_data",
          "data": {
            "text/plain": [
              "<Figure size 720x360 with 1 Axes>"
            ],
            "image/png": "[encoded data removed]"
          },
          "metadata": {
            "needs_background": "light"
          }
        }
      ],
      "source": [
        "our_df.Severity.value_counts().plot(kind=\"bar\", logy=True, rot=0)"
      ]
    },
    {
      "cell_type": "markdown",
      "source": [
        "## This pie chart shows proportions of cities that accidents had in, 15.7% of accidents happened in Miami "
      ],
      "metadata": {
        "id": "4xQOJZJCKbSS"
      }
    },
    {
      "cell_type": "code",
      "execution_count": 32,
      "metadata": {
        "colab": {
          "base_uri": "https://localhost:8080/",
          "height": 751
        },
        "id": "F9-dUCMdGdNv",
        "outputId": "d421243a-fc6f-472c-d6fb-1317bff29aef"
      },
      "outputs": [
        {
          "output_type": "display_data",
          "data": {
            "text/plain": [
              "<Figure size 720x720 with 1 Axes>"
            ],
            "image/png": "[encoded data removed]"
          },
          "metadata": {}
        }
      ],
      "source": [
        "fig = plt.figure(figsize=(10, 10))\n",
        "ax = fig.add_axes([0,0,1,1])\n",
        "\n",
        "most_acc_cities = {key:value for key, value in our_df.City.value_counts(normalize=True).items() if value > 0.01}\n",
        "_ = ax.pie(most_acc_cities.values(), labels= most_acc_cities.keys(), autopct='%1.1f%%')"
      ]
    },
    {
      "cell_type": "markdown",
      "source": [
        "## Make function that takes DataFrame and variables names and return same DataFrame after remove outliers from inputed variables "
      ],
      "metadata": {
        "id": "jVx8J6-4K7ib"
      }
    },
    {
      "cell_type": "code",
      "execution_count": 13,
      "metadata": {
        "id": "5jZa0a9JQnHW"
      },
      "outputs": [],
      "source": [
        "def remove_outlier(df:pd.DataFrame, variable_names:List[str]) -> pd.DataFrame:\n",
        "  for var_name in variable_names:\n",
        "    q_low = df[var_name].quantile(0.01)\n",
        "    q_hi  = df[var_name].quantile(0.99)\n",
        "\n",
        "    df = df[(df[var_name] < q_hi) & (df[var_name] > q_low)]\n",
        "  return df\n"
      ]
    },
    {
      "cell_type": "markdown",
      "source": [
        "## Remove outliers"
      ],
      "metadata": {
        "id": "-wN_uuw5LUEG"
      }
    },
    {
      "cell_type": "code",
      "execution_count": 14,
      "metadata": {
        "id": "bol1r4_05CsQ"
      },
      "outputs": [],
      "source": [
        "our_df = remove_outlier(our_df, [\"Temperature(F)\", \"Visibility(mi)\", \"Wind_Speed(mph)\"])"
      ]
    },
    {
      "cell_type": "markdown",
      "source": [
        "## This histogram shows that most of the accidents happened when the visibility was 8.5 and 7 miles and no accidents when visibility 3.5"
      ],
      "metadata": {
        "id": "zDOaqkI5LbOh"
      }
    },
    {
      "cell_type": "code",
      "execution_count": 39,
      "metadata": {
        "colab": {
          "base_uri": "https://localhost:8080/",
          "height": 338
        },
        "id": "1C8Glt7k7AMn",
        "outputId": "be0dcb8a-d7ef-4e4d-dd4c-3e025e2c4739"
      },
      "outputs": [
        {
          "output_type": "execute_result",
          "data": {
            "text/plain": [
              "<AxesSubplot:ylabel='Frequency'>"
            ]
          },
          "metadata": {},
          "execution_count": 39
        },
        {
          "output_type": "display_data",
          "data": {
            "text/plain": [
              "<Figure size 720x360 with 1 Axes>"
            ],
            "image/png": "[encoded data removed]"
          },
          "metadata": {
            "needs_background": "light"
          }
        }
      ],
      "source": [
        "plt.xticks(np.arange(0, 9, 0.5))\n",
        "our_df[\"Visibility(mi)\"].plot(kind=\"hist\", )"
      ]
    },
    {
      "cell_type": "markdown",
      "source": [
        "## This histogram shows that most of the accidents happened when temprature is in range [50,75] Fehrenhite "
      ],
      "metadata": {
        "id": "hPiWyrtIN0mH"
      }
    },
    {
      "cell_type": "code",
      "execution_count": 16,
      "metadata": {
        "colab": {
          "base_uri": "https://localhost:8080/",
          "height": 354
        },
        "id": "MHcPvE5y7V2a",
        "outputId": "8ba51a6c-6801-44d9-e74a-2cb087e14293"
      },
      "outputs": [
        {
          "output_type": "execute_result",
          "data": {
            "text/plain": [
              "array([[<AxesSubplot:title={'center':'Temperature(F)'}>]], dtype=object)"
            ]
          },
          "metadata": {},
          "execution_count": 16
        },
        {
          "output_type": "display_data",
          "data": {
            "text/plain": [
              "<Figure size 720x360 with 1 Axes>"
            ],
            "image/png": "[encoded data removed]"
          },
          "metadata": {
            "needs_background": "light"
          }
        }
      ],
      "source": [
        "our_df.hist(\"Temperature(F)\")"
      ]
    },
    {
      "cell_type": "markdown",
      "source": [
        "## This histogram shows that most of the accidents happened when wind speed is in range [6,8] miles per hour "
      ],
      "metadata": {
        "id": "th590PPIOOhn"
      }
    },
    {
      "cell_type": "code",
      "execution_count": 41,
      "metadata": {
        "colab": {
          "base_uri": "https://localhost:8080/",
          "height": 354
        },
        "id": "3BgApfqq7x7x",
        "outputId": "4db1ac28-6505-4cbc-c71a-d60f0feb9cd9"
      },
      "outputs": [
        {
          "output_type": "execute_result",
          "data": {
            "text/plain": [
              "array([[<AxesSubplot:title={'center':'Wind_Speed(mph)'}>]], dtype=object)"
            ]
          },
          "metadata": {},
          "execution_count": 41
        },
        {
          "output_type": "display_data",
          "data": {
            "text/plain": [
              "<Figure size 720x360 with 1 Axes>"
            ],
            "image/png": "[encoded data removed]"
          },
          "metadata": {
            "needs_background": "light"
          }
        }
      ],
      "source": [
        "our_df.hist(\"Wind_Speed(mph)\")"
      ]
    },
    {
      "cell_type": "markdown",
      "source": [
        "## Most of the accidents happened in Highway 101 street"
      ],
      "metadata": {
        "id": "gbB_SsTAPITM"
      }
    },
    {
      "cell_type": "code",
      "execution_count": 18,
      "metadata": {
        "colab": {
          "base_uri": "https://localhost:8080/"
        },
        "id": "Y11RDJjf8b6M",
        "outputId": "c3757420-e693-4f50-d988-6f9bb05460df"
      },
      "outputs": [
        {
          "output_type": "execute_result",
          "data": {
            "text/plain": [
              " Highway 101             436\n",
              " Main St                 302\n",
              " S Orange Blossom Trl    293\n",
              " Highway 20              212\n",
              " NW 27th Ave             202\n",
              "                        ... \n",
              " E Oakdale Ave             1\n",
              " Sunnywood Dr              1\n",
              " Abernathy Dr              1\n",
              " Rosedale Ln               1\n",
              " Hardin Way                1\n",
              "Name: Street, Length: 29083, dtype: int64"
            ]
          },
          "metadata": {},
          "execution_count": 18
        }
      ],
      "source": [
        "our_df[\"Street\"].value_counts()"
      ]
    },
    {
      "cell_type": "markdown",
      "source": [
        "### Make a map to show where the accidents happened"
      ],
      "metadata": {
        "id": "EfllR1RuPSt1"
      }
    },
    {
      "cell_type": "code",
      "execution_count": 19,
      "metadata": {
        "id": "1j7i9pJqeyHT"
      },
      "outputs": [],
      "source": [
        "map = folium.Map()\n",
        "sample_df = our_df.sample(int(0.01*len(our_df)))\n",
        "lat_lng_pairs = list(zip(list(sample_df.Start_Lat), list(sample_df.Start_Lng)))"
      ]
    },
    {
      "cell_type": "markdown",
      "source": [
        "## The colors represents density of accidents\n",
        "## Red:a lot\n",
        "## blue: a littel"
      ],
      "metadata": {
        "id": "Hib8SNz_Pb_p"
      }
    },
    {
      "cell_type": "code",
      "execution_count": 20,
      "metadata": {
        "colab": {
          "base_uri": "https://localhost:8080/",
          "height": 674
        },
        "id": "E4bKGzD0faDk",
        "outputId": "bcb94e0b-e7d7-43ce-d2cc-2ac1c4584929"
      },
      "outputs": [
        {
          "output_type": "execute_result",
          "data": {
            "text/plain": [
              "<folium.folium.Map at 0x7f8ede28b0a0>"
            ],
            "text/html": [
              "<div style=\"width:100%;\"><div style=\"position:relative;width:100%;height:0;padding-bottom:60%;\"><span style=\"color:#565656\">Make this Notebook Trusted to load map: File -> Trust Notebook</span><iframe srcdoc=\"&lt;!DOCTYPE html&gt;\n",
              "&lt;html&gt;\n",
              "&lt;head&gt;\n",
              "    \n",
              "    &lt;meta http-equiv=&quot;content-type&quot; content=&quot;text/html; charset=UTF-8&quot; /&gt;\n",
              "    \n",
              "        &lt;script&gt;\n",
              "            L_NO_TOUCH = false;\n",
              "            L_DISABLE_3D = false;\n",
              "        &lt;/script&gt;\n",
              "    \n",
              "    &lt;style&gt;html, body {width: 100%;height: 100%;margin: 0;padding: 0;}&lt;/style&gt;\n",
              "    &lt;style&gt;#map {position:absolute;top:0;bottom:0;right:0;left:0;}&lt;/style&gt;\n",
              "    &lt;script src=&quot;https://cdn.jsdelivr.net/npm/leaflet@1.6.0/dist/leaflet.js&quot;&gt;&lt;/script&gt;\n",
              "    &lt;script src=&quot;https://code.jquery.com/jquery-1.12.4.min.js&quot;&gt;&lt;/script&gt;\n",
              "    &lt;script src=&quot;https://maxcdn.bootstrapcdn.com/bootstrap/3.2.0/js/bootstrap.min.js&quot;&gt;&lt;/script&gt;\n",
              "    &lt;script src=&quot;https://cdnjs.cloudflare.com/ajax/libs/Leaflet.awesome-markers/2.0.2/leaflet.awesome-markers.js&quot;&gt;&lt;/script&gt;\n",
              "    &lt;link rel=&quot;stylesheet&quot; href=&quot;https://cdn.jsdelivr.net/npm/leaflet@1.6.0/dist/leaflet.css&quot;/&gt;\n",
              "    &lt;link rel=&quot;stylesheet&quot; href=&quot;https://maxcdn.bootstrapcdn.com/bootstrap/3.2.0/css/bootstrap.min.css&quot;/&gt;\n",
              "    &lt;link rel=&quot;stylesheet&quot; href=&quot;https://maxcdn.bootstrapcdn.com/bootstrap/3.2.0/css/bootstrap-theme.min.css&quot;/&gt;\n",
              "    &lt;link rel=&quot;stylesheet&quot; href=&quot;https://maxcdn.bootstrapcdn.com/font-awesome/4.6.3/css/font-awesome.min.css&quot;/&gt;\n",
              "    &lt;link rel=&quot;stylesheet&quot; href=&quot;https://cdnjs.cloudflare.com/ajax/libs/Leaflet.awesome-markers/2.0.2/leaflet.awesome-markers.css&quot;/&gt;\n",
              "    &lt;link rel=&quot;stylesheet&quot; href=&quot;https://cdn.jsdelivr.net/gh/python-visualization/folium/folium/templates/leaflet.awesome.rotate.min.css&quot;/&gt;\n",
              "    \n",
              "            &lt;meta name=&quot;viewport&quot; content=&quot;width=device-width,\n",
              "                initial-scale=1.0, maximum-scale=1.0, user-scalable=no&quot; /&gt;\n",
              "            &lt;style&gt;\n",
              "                #map_71ce7e02867ae31de417a63c41a4a6aa {\n",
              "                    position: relative;\n",
              "                    width: 100.0%;\n",
              "                    height: 100.0%;\n",
              "                    left: 0.0%;\n",
              "                    top: 0.0%;\n",
              "                }\n",
              "            &lt;/style&gt;\n",
              "        \n",
              "    &lt;script src=&quot;https://cdn.jsdelivr.net/gh/python-visualization/folium@master/folium/templates/leaflet_heat.min.js&quot;&gt;&lt;/script&gt;\n",
              "&lt;/head&gt;\n",
              "&lt;body&gt;\n",
              "    \n",
              "    \n",
              "            &lt;div class=&quot;folium-map&quot; id=&quot;map_71ce7e02867ae31de417a63c41a4a6aa&quot; &gt;&lt;/div&gt;\n",
              "        \n",
              "&lt;/body&gt;\n",
              "&lt;script&gt;\n",
              "    \n",
              "    \n",
              "            var map_71ce7e02867ae31de417a63c41a4a6aa = L.map(\n",
              "                &quot;map_71ce7e02867ae31de417a63c41a4a6aa&quot;,\n",
              "                {\n",
              "                    center: [0, 0],\n",
              "                    crs: L.CRS.EPSG3857,\n",
              "                    zoom: 1,\n",
              "                    zoomControl: true,\n",
              "                    preferCanvas: false,\n",
              "                }\n",
              "            );\n",
              "\n",
              "            \n",
              "\n",
              "        \n",
              "    \n",
              "            var tile_layer_c7d3eb062df23e6c2538e78e1450b9bf = L.tileLayer(\n",
              "                &quot;https://{s}.tile.openstreetmap.org/{z}/{x}/{y}.png&quot;,\n",
              "                {&quot;attribution&quot;: &quot;Data by \\u0026copy; \\u003ca href=\\&quot;http://openstreetmap.org\\&quot;\\u003eOpenStreetMap\\u003c/a\\u003e, under \\u003ca href=\\&quot;http://www.openstreetmap.org/copyright\\&quot;\\u003eODbL\\u003c/a\\u003e.&quot;, &quot;detectRetina&quot;: false, &quot;maxNativeZoom&quot;: 18, &quot;maxZoom&quot;: 18, &quot;minZoom&quot;: 0, &quot;noWrap&quot;: false, &quot;opacity&quot;: 1, &quot;subdomains&quot;: &quot;abc&quot;, &quot;tms&quot;: false}\n",
              "            ).addTo(map_71ce7e02867ae31de417a63c41a4a6aa);\n",
              "        \n",
              "    \n",
              "            var heat_map_a515cc715a6c87660f94f015c682b1fc = L.heatLayer(\n",
              "                [[37.981765, -121.254521], [38.31016, -122.49759], [33.929918, -118.020797], [38.572927, -76.973526], [42.427679, -121.854279], [40.116392, -76.37935300000002], [40.15533, -75.122849], [25.702385, -80.366229], [45.670991, -111.172457], [34.458468, -119.70906200000002], [42.77118, -73.75341], [39.855475, -75.771181], [42.729138, -71.34830699999998], [34.640571, -82.335615], [35.375212, -119.114496], [35.025583000000005, -85.267478], [38.741808, -121.729462], [41.56709, -88.08735], [25.714654, -80.41241600000002], [32.86779, -96.78683], [45.07537, -93.33109], [29.795022, -95.377974], [33.86466, -118.199811], [33.903359, -117.476209], [33.981106, -118.278297], [28.541723, -81.205761], [37.206985, -93.339313], [40.18611, -122.223598], [36.880191, -119.934707], [43.176272, -77.60131899999998], [46.327393, -94.648176], [40.655388, -111.897478], [34.077625, -117.617265], [33.992919, -118.369118], [36.671062, -121.753699], [45.332636, -123.12394], [40.48317, -123.741492], [25.79698, -80.314461], [40.719732, -74.093333], [26.524321, -81.870795], [25.748087, -80.30816800000002], [34.956876, -120.508434], [34.857796, -82.257287], [37.766637, -120.847053], [30.86102, -88.80657], [39.297638, -123.28348], [34.023721, -118.173066], [35.689079, -119.20368700000002], [33.073122999999995, -117.164849], [25.848493, -80.20930200000002], [35.356051, -118.914116], [25.889423, -80.16140899999998], [36.807736, -119.979374], [40.942134, -124.100927], [28.496393, -81.39693100000002], [40.674268, -111.889644], [41.539471, -121.152722], [36.260359, -86.712863], [36.048402, -86.665607], [29.770407, -95.412511], [36.648752, -119.790847], [32.790747, -96.769934], [40.090405, -74.216379], [36.136017, -86.791957], [42.008802, -93.487117], [35.073898, -85.182808], [37.30585, -79.30821], [38.224639, -122.57232], [32.481873, -93.797241], [43.060201, -83.699809], [39.03533, -104.7759], [32.695832, -96.793952], [42.162598, -123.646305], [34.065656, -117.396277], [33.90623, -78.65841], [36.201983, -86.739343], [34.243472, -82.18099699999998], [28.495118, -81.45908], [37.5419, -77.43562], [25.639167, -80.336205], [30.353828000000004, -91.128186], [36.598475, -121.548419], [34.007265000000004, -117.962731], [34.027238, -118.432203], [39.367423, -77.19626600000002], [27.608193, -82.53965600000002], [47.688387, -122.344426], [36.022705, -118.910739], [35.295886, -118.985404], [46.76033, -95.26743], [40.891002, -123.99994], [39.439533, -121.655792], [33.182049, -82.040074], [33.958943, -118.30024], [39.788771, -84.224277], [34.029537, -118.403218], [38.961963, -121.111844], [43.847298, -123.04416100000002], [28.408412, -81.42483299999998], [43.754621, -122.5326], [34.114224, -80.889903], [37.695246, -122.086868], [33.193899, -87.47272099999998], [46.094794, -123.730842], [30.404543, -97.640566], [39.978193, -107.965885], [41.999006, -124.208312], [36.132621, -76.493685], [33.914313, -79.745346], [35.338371, -80.962918], [39.360162, -123.316525], [30.442645, -87.304695], [35.149035999999995, -80.832892], [29.734487, -95.571663], [35.820451, -78.592329], [37.288954, -75.97851700000002], [37.068847, -120.353682], [36.881387, -119.54783799999998], [34.042165999999995, -118.300752], [37.432182, -120.994861], [34.023919, -118.190234], [32.286789, -110.992067], [29.970949, -90.066958], [48.328922, -114.15937], [35.055258, -85.269213], [40.165345, -110.425112], [37.143734, -120.274382], [33.913435, -118.27545], [40.474891, -78.60055], [44.911133, -117.674614], [40.90739, -123.720542], [38.694817, -120.813363], [33.930894, -118.310193], [35.639671, -78.84645], [28.495958, -81.396924], [42.955534, -85.63958000000002], [32.77056, -97.287448], [35.441526, -119.154322], [37.806476, -120.6983], [37.617492, -121.027217], [34.701058, -120.466449], [34.787208, -82.479252], [40.69942, -111.91693], [37.431563, -120.795113], [35.688905, -119.22306100000002], [44.77611, -93.73563], [35.426226, -118.818491], [36.640079, -119.385494], [29.968196, -90.084886], [29.770689, -95.39112], [43.126551, -77.561373], [35.332758, -119.003096], [35.445906, -118.921873], [33.901813, -118.377562], [42.350926, -87.854555], [35.370754, -118.914199], [35.207097, -80.796941], [25.93785, -80.27734699999998], [35.089462, -120.537432], [28.07895, -82.76445600000002], [37.638299, -121.269411], [29.734485, -95.328485], [37.492456, -122.385803], [34.157489, -117.663411], [29.758518, -95.367497], [38.886909, -119.983415], [45.151982, -93.391671], [39.93447000000001, -82.68115999999998], [34.437767, -119.852866], [25.840903, -80.24968199999998], [33.945474, -118.300251], [38.069093, -122.763483], [40.93953, -124.098951], [44.5653, -123.148804], [37.016247, -120.059283], [25.639273, -80.382859], [38.734266, -120.825204], [36.038606, -86.78614499999998], [25.715997, -80.353001], [32.412585, -93.793722], [27.269389, -82.4994], [25.899331, -80.188855], [28.004885, -82.708825], [37.15515, -119.731653], [45.50676, -122.96108], [42.91428300000001, -83.756019], [38.298741, -120.901286], [42.295984, -88.106627], [45.910454, -123.88479], [45.586363, -117.994574], [40.725976, -74.088308], [43.211883, -77.695923], [44.676309, -94.721257], [35.849999, -78.57881], [40.12528, -76.21425], [35.003266, -85.228909], [38.950293, -121.099856], [40.009515, -75.28997700000002], [38.965032, -121.104224], [45.07380300000001, -93.286387], [46.564498, -111.799258], [44.048148, -123.172928], [38.914576, -77.22519799999998], [28.059949, -82.73876800000002], [37.562116, -120.957058], [25.943451, -80.30708800000002], [45.177528, -95.28782], [33.973878000000006, -118.079627], [30.439729, -91.047646], [38.661201, -121.225688], [35.4354, -97.74234], [29.793844, -95.522645], [37.244172, -121.012706], [30.166647, -97.736798], [34.804721, -78.874866], [34.135490000000004, -117.584767], [36.377555, -119.834033], [34.05562800000001, -80.948452], [25.761807, -80.33846899999998], [45.417628, -122.45243700000002], [38.472716, -121.418227], [25.769703, -80.335727], [40.676171, -77.48959], [40.445941, -79.84847099999998], [43.73875, -83.97629], [44.955549, -93.262593], [42.591876, -122.816933], [42.702779, -76.879522], [43.087383, -77.542668], [46.815798, -114.090157], [32.792393, -96.686105], [38.25517, -85.79427], [37.133113, -121.98121100000002], [36.942172, -121.790365], [29.650983, -95.481299], [36.755293, -119.834371], [30.425693, -91.007539], [45.056787, -120.683494], [34.063164, -117.397937], [33.990869, -117.935529], [47.317428, -115.079778], [33.939868, -118.09471200000002], [34.110522, -118.334418], [35.21183900000001, -80.863333], [42.196279, -120.591613], [39.596304, -121.689674], [33.902359999999994, -118.259356], [38.0578, -121.210068], [41.935479, -78.512575], [40.02966, -76.32309000000002], [45.99082, -93.662035], [25.870141, -80.209959], [44.86328, -93.44356], [27.318267, -82.529686], [34.737933, -82.79035999999998], [35.98939199999999, -82.154574], [40.31686, -74.65569], [29.742584, -95.410751], [34.064526, -117.288906], [39.847227, -75.709839], [40.151091, -111.720625], [38.728823, -121.363838], [34.040223, -118.437869], [34.868864, -120.41877], [39.87312, -74.92185], [44.144235, -94.15855], [35.44113, -119.090838], [45.751606, -123.196313], [37.256231, -93.316415], [39.86922, -76.22759], [32.334, -90.14184], [33.939877, -118.291078], [37.050661, -120.635549], [37.565956, -121.074996], [29.897961, -95.431552], [40.463537, -112.354756], [34.044363, -117.988529], [30.183382, -97.782003], [42.052448, -123.714266], [28.261443, -82.674525], [42.171043, -122.662995], [28.457241, -81.458474], [37.669203, -122.478581], [47.495409, -92.473415], [36.929019, -76.267282], [34.143206, -117.278657], [33.89575, -118.194508], [38.617319, -121.04964], [37.073011, -120.87122], [37.700613, -121.086572], [33.51538, -112.35812], [35.032321, -120.48747], [40.343559, -80.060039], [35.173878, -80.83993000000002], [39.92169000000001, -74.94755], [43.590308, -116.333494], [30.132344, -85.23486], [43.668283, -116.279007], [35.374902, -118.967423], [38.872866, -76.935034], [35.35015, -118.880403], [36.083254, -86.72558599999998], [35.784811, -78.642687], [34.043551, -118.311594], [33.901799, -118.380121], [43.15603, -77.585365], [38.278577, -122.100783], [45.324687, -119.570109], [40.72464, -73.9481], [39.76922, -86.10216], [36.431258, -78.40306700000002], [37.780362, -122.17373], [34.235361, -117.179414], [27.748323, -82.692014], [40.077084, -76.263324], [38.625267, -122.789033], [37.546363, -121.195991], [32.706878, -117.119683], [48.225861, -114.410873], [27.324049, -82.125438], [33.553909000000004, -81.811033], [45.875175, -119.203009], [34.049266, -118.213282], [25.883616, -80.211893], [33.85835, -118.304571], [45.150943, -122.875739], [33.960014, -118.280502], [25.88198, -80.242976], [29.961739, -90.114375], [32.825423, -96.696854], [33.167794, -87.526859], [35.059891, -85.32750899999998], [37.614517, -77.521628], [32.988116999999995, -80.15936500000002], [41.75811, -89.631576], [29.680489, -95.367052], [35.26991, -118.682405], [34.110208, -118.788067], [40.231965, -74.272953], [42.20647, -121.72269], [42.972622, -85.686992], [33.888033, -81.16494300000002], [38.2174, -121.290703], [34.824987, -82.447351], [44.77896, -93.34583], [30.390125, -91.173144], [35.526056, -82.529424], [25.769466, -80.33815899999998], [25.712551, -80.41491500000002], [44.052923, -123.427664], [35.06143, -90.019529], [38.44679, -121.851805], [39.168754, -120.184247], [40.14288, -79.840761], [29.674818, -95.304521], [32.44612, -93.745987], [42.103433, -80.096684], [37.328296, -121.876075], [46.340963, -94.322242], [35.120729, -85.28643100000002], [40.39013, -76.478844], [37.506632, -77.58533], [30.036261, -89.928801], [37.921257, -122.097685], [28.548378000000003, -81.413837], [28.625554, -81.448706], [34.26377, -118.99589], [28.75636, -81.593234], [40.078341, -75.30045799999998], [43.82975, -124.14884], [38.241709, -122.678171], [40.17846, -75.19306], [34.895767, -120.488922], [44.61913, -123.68772], [30.449668, -86.641954], [38.982317, -121.547217], [25.726103, -80.25936300000002], [28.412628, -81.42340899999998], [35.746819, -78.648814], [34.041094, -117.282281], [35.23802, -119.109961], [37.075708, -76.68338100000003], [38.678244, -120.637444], [35.702959, -119.437233], [38.610267, -121.365851], [44.855423, -123.963686], [33.978770000000004, -118.370143], [26.579453000000004, -81.708209], [29.863282, -95.475401], [36.156016, -86.788827], [33.894464, -118.361296], [35.81881, -78.59581999999997], [43.751782, -124.124811], [37.967986, -121.314543], [43.865622, -92.488367], [35.397468, -119.001659], [25.762079, -80.33516], [36.150252, -86.857897], [39.881618, -122.197423], [35.645989, -119.080413], [42.91265, -85.544437], [29.704016, -95.569516], [39.83433, -84.198616], [35.199886, -80.872613], [38.79647, -77.13546], [38.20033, -85.76543000000002], [33.953558, -118.130024], [42.960091, -83.662994], [33.097082, -117.174695], [30.969637, -87.236692], [45.457344, -122.579086], [44.94746, -92.90342], [42.968676, -85.67214399999997], [36.20741, -86.83986999999998], [41.559126, -73.903531], [29.824693, -95.399559], [34.007102, -117.913436], [45.55968, -123.90892], [41.303987, -123.529961], [44.090591, -93.954063], [35.03317, -81.97003000000002], [37.35383, -77.437342], [40.1663, -75.4203], [25.861363, -80.177038], [34.065001, -117.393893], [38.246637, -122.022265], [34.249931, -117.178096], [41.19547100000001, -76.78573], [30.392422, -91.161139], [34.015071, -118.493595], [40.070873, -75.706236], [43.964243, -117.276016], [41.152306, -76.535428], [33.392067, -117.19384], [35.845597, -78.579944], [34.982421, -81.970083], [25.577061, -80.371183], [41.772452, -124.183943], [47.46375, -122.81058], [35.36890800000001, -119.180958], [33.870994, -118.250047], [40.819545, -73.890844], [36.736156, -119.627885], [35.018715, -85.239712], [43.233462, -73.490157], [37.993441, -122.3184], [41.512919, -123.992622], [29.59188, -90.745363], [35.129463, -85.283397], [29.737667, -95.410681], [36.909411, -120.009301], [43.146507, -77.585297], [33.810163, -117.993287], [46.976571, -123.637683], [42.493779, -87.88673], [44.1519, -92.419338], [43.59395, -121.56633], [33.854855, -78.76213100000002], [44.304354, -120.80208600000002], [41.732216, -72.953001], [29.705011, -95.546696], [36.76071500000001, -121.740058], [44.3733, -95.9092], [35.23690999999999, -80.73796999999998], [35.249236, -80.78969000000002], [32.749349, -96.725023], [24.816818, -80.823959], [37.976885, -122.308059], [29.680897, -95.518289], [35.057127, -85.108237], [25.702121, -80.337124], [45.145072, -123.114341], [35.674832, -78.793563], [39.912124, -75.192631], [33.75936, -117.973638], [33.835390999999994, -81.58963], [36.80247, -76.185133], [28.49456, -81.393106], [32.667041999999995, -117.071739], [32.648514, -96.781501], [34.132572, -81.30708299999998], [30.501385, -87.22159599999998], [25.89756, -80.259562], [32.918515, -80.629779], [29.955199, -90.072237], [40.62447, -111.86038], [40.437144, -79.973291], [36.298495, -119.60076200000002], [36.880205, -119.93473], [34.043818, -117.964735], [37.573002, -120.903996], [32.244729, -80.964714], [43.818813, -122.59944], [41.302789, -72.91281500000002], [35.18937000000001, -80.80099], [40.075102, -78.575969], [33.894172, -80.403324], [35.701136, -78.648031], [35.266825, -119.007444], [36.327772, -119.400077], [47.53434, -122.3133], [36.038606, -86.78614499999998], [34.417238, -119.853509], [36.862222, -121.617778], [29.71774000000001, -95.52092], [36.342483, -119.807935], [34.40636, -83.76733], [42.539562, -122.811306], [33.39894, -79.479957], [43.149825, -77.617762], [38.954954, -77.19497199999998], [47.73412, -122.342376], [37.871684, -121.072997], [40.30855800000001, -78.985553], [37.691167, -122.077065], [38.037816, -121.257063], [36.320076, -119.271892], [38.041977, -122.788751], [33.823933000000004, -117.510223], [35.01918, -85.27155], [35.769161, -78.64882], [38.970652, -123.02348], [40.18519000000001, -75.45056], [34.180959, -117.165379], [29.746604, -95.453784], [30.480054, -91.115349], [35.30548800000001, -80.856771], [36.603527, -120.09806100000002], [42.344991, -88.068271], [34.19455, -82.190648], [42.970956, -85.695009], [39.601256, -77.72959300000002], [29.950721, -90.133984], [44.215838, -121.217175], [34.715952, -92.357524], [33.307665, -87.60178], [25.874472, -80.24266], [33.333535999999995, -117.24438700000002], [45.843312, -123.203148], [43.610437, -116.206719], [35.868324, -78.611198], [40.098559, -75.353589], [34.883741, -82.311148], [29.635028, -95.232758], [40.180081, -75.453177], [32.720409000000004, -96.830212], [34.819959999999995, -82.25636], [25.91545, -80.292879], [45.080691, -117.860909], [28.909159, -82.036909], [42.10952800000001, -123.67758], [40.541666, -74.290257], [40.28736, -75.511255], [39.4718, -123.363019], [35.010785, -120.567592], [38.491463, -122.960549], [43.173851, -77.65280600000001], [33.977933, -81.1921], [32.35727, -86.216876], [25.761425, -80.36717800000002], [42.32011, -88.013224], [30.35133, -97.462352], [43.071588, -73.877874], [46.644934, -114.008565], [41.758241, -124.15643], [38.6375, -90.45229], [34.233575, -117.187119], [34.077641, -117.625065], [25.867016, -80.209847], [28.25184, -82.18406], [43.62255800000001, -122.139855], [32.936492, -80.041123], [37.56962, -77.41689000000002], [30.178442, -97.756029], [38.462279, -121.422656], [38.551599, -122.650447], [46.48046, -95.29047], [33.99818, -118.126837], [30.349103000000003, -97.540704], [35.389463, -119.047528], [36.577378, -121.590047], [34.842208, -82.31952199999998], [25.957044, -80.206941], [34.018883, -118.181971], [35.430499, -118.954151], [29.95661, -90.073948], [39.364844, -106.058904], [39.820128, -84.167536], [25.88099200000001, -80.24292700000002], [38.883195, -121.173259], [40.940638, -124.115391], [28.524259000000004, -81.320642], [32.988337, -80.115845], [45.51099, -94.29098], [29.686477000000004, -95.565911], [34.531279, -119.263745], [36.172907, -86.79288000000004], [34.140911, -117.252403], [33.873797, -118.20259], [36.399797, -119.296299], [38.093771, -122.55629], [38.809568, -121.075803], [38.631874, -121.219758], [39.095967, -94.581108], [38.943229, -122.80481100000002], [38.553626, -121.436241], [34.113551, -79.34098], [41.349996, -72.403646], [37.383243, -118.415943], [42.3642, -123.53502], [35.215819, -80.78586800000002], [35.00011, -85.09552], [34.14674, -117.249485], [34.088594, -118.475404], [30.422302, -87.211489], [33.992806, -118.183529], [47.69988, -120.19374], [35.373139, -118.967583], [34.021572, -118.369977], [39.317, -121.509862], [35.415419, -119.065703], [29.830726, -95.265203], [37.850515, -77.40817], [42.91264, -85.626413], [41.94673, -87.68826], [29.689758, -95.552936], [40.186744, -75.537269], [28.420766, -81.371314], [25.732173, -80.33572099999998], [34.912209999999995, -82.21061999999998], [43.252955, -77.685372], [40.166649, -75.14650400000002], [35.407418, -119.038753], [35.2724, -118.914368], [38.154366, -121.674717], [43.69237, -123.99485], [32.749024, -117.159529], [40.590005, -77.577565], [43.228319, -75.093295], [36.253037, -86.70525], [34.262401000000004, -118.508847], [36.139765, -86.955341], [34.021570000000004, -118.369174], [46.25209, -92.70453], [35.29252, -78.628393], [45.576507, -111.145898], [32.384199, -93.763366], [45.48534, -94.807902], [42.912975, -85.663524], [47.599212, -122.329041], [39.202178, -121.287027], [28.485299, -81.41736800000002], [35.047773, -85.26321300000002], [29.770451, -95.410037], [35.34243499999999, -118.9897], [39.741703, -121.525505], [36.569079, -119.790935], [35.074189000000004, -85.176905], [34.898895, -78.255], [25.941483, -80.315359], [36.83606500000001, -119.913362], [46.756664, -92.107497], [35.91073400000001, -78.779114], [39.779308, -122.286104], [39.686704, -123.481978], [36.309717, -121.88609], [38.116122, -121.385891], [35.264428, -80.940388], [47.799223, -122.21161], [34.128626000000004, -117.254545], [35.237799, -118.949929], [34.163472, -117.303905], [35.389846, -119.022783], [42.963495, -85.686263], [25.76972300000001, -80.33341300000002], [25.690093, -80.163719], [42.26356, -122.804185], [39.208578, -77.742774], [30.437194, -97.68455], [36.161166, -86.784836], [46.27473, -95.71387], [33.773934999999994, -81.145969], [25.807459, -80.295849], [25.841659, -80.225289], [34.139395, -117.247514], [43.27762, -77.869869], [25.899331, -80.188855], [34.136161, -79.771449], [34.220357, -117.402383], [36.96764, -76.51171], [33.989148, -118.287093], [35.104209999999995, -120.605641], [37.699061, -79.469894], [32.720264, -96.810879], [46.205288, -114.142023], [27.337764, -82.464917], [30.19623300000001, -97.78574], [29.933938, -90.070363], [36.182152, -119.325374], [35.022214, -120.208057], [37.159626, -93.295532], [35.742444, -78.815271], [47.538045, -94.055339], [35.616021, -119.366879], [30.683762, -87.054037], [42.35969, -87.8996], [28.552392, -81.448734], [35.824877, -78.619086], [36.855159, -76.276247], [40.229553, -74.76878], [37.668225, -122.053359], [35.42667, -119.02118], [34.954496, -81.17488], [29.736081, -95.608055], [34.984963, -85.257224], [34.451664, -82.461212], [43.48721, -121.90857], [44.344178, -123.718317], [34.039396, -118.308999], [39.355691, -76.46052900000002], [45.159188, -122.500316], [41.936448, -121.90116100000002], [30.40153, -87.27722], [42.516085, -96.369817], [29.96423, -90.083169], [32.810109999999995, -96.803444], [43.452855, -124.226898], [40.674107, -73.84331800000002], [41.785477, -124.204064], [40.09418400000001, -76.304436], [40.110665, -76.066707], [25.888174, -80.164039], [30.196125, -97.77755], [40.78606, -77.800674], [40.954931, -78.20876700000002], [34.755041, -86.713453], [40.685121, -74.333997], [46.644934, -100.717645], [35.03559, -81.205213], [34.138612, -117.243674], [35.332998, -119.003103], [39.511923, -74.623384], [37.559667, -122.270078], [39.9572, -75.15872399999998], [45.647439, -108.756808], [39.765804, -84.139003], [34.019890000000004, -117.987787], [36.524776, -121.755506], [40.180498, -75.548198], [32.776916, -117.172554], [39.880168, -106.278797], [36.923229, -119.799309], [46.152069, -123.856849], [38.524879, -77.356656], [42.94305, -86.16139], [35.85104699999999, -78.58078], [35.052228, -80.84966700000003], [35.122005, -85.110069], [43.095669, -75.242999], [40.6671, -73.7804], [40.101901, -76.318995], [42.778154, -73.584398], [28.448906, -81.40112099999997], [34.122683, -117.997579], [39.803048, -74.948971], [41.996143, -123.721207], [40.88445, -123.959952], [34.827637, -82.293222], [37.939058, -122.260524], [41.902853, -78.06589699999998], [38.514884, -121.468663], [40.779395, -77.618375], [29.685455, -95.280293], [41.770941, -124.198493], [30.186281, -85.791678], [37.781401, -121.529446], [29.785814, -95.676655], [32.226397, -110.806892], [33.853041, -78.687575], [47.63401, -122.94413], [45.430116, -123.824129], [40.188519, -75.576441], [38.97154000000001, -77.24197], [33.641553, -81.637085], [46.46895, -92.87724], [33.16827, -117.206044], [40.608367, -74.26021], [35.050189, -80.868142], [33.967465000000004, -118.25426000000002], [25.734073, -80.35173499999998], [40.653995, -112.289253], [42.97306, -85.689611], [40.98273, -73.74414], [35.141053, -81.06652], [42.862247, -117.548979], [44.96586, -93.24726], [45.558705, -110.558831], [42.21981, -88.06681], [25.564737, -80.518829], [29.937315, -90.005698], [30.249812, -97.738785], [42.237774, -88.148814], [29.629675, -82.445775], [35.964156, -78.51796], [40.19224000000001, -75.13685500000003], [38.906134, -120.83916200000002], [37.493301, -121.030894], [34.095551, -117.497414], [43.17613400000001, -77.565797], [25.882859, -80.122325], [36.713239, -119.970056], [45.509009000000006, -123.103147], [33.684836, -117.907708], [40.215479, -76.12759399999999], [40.921744, -73.862961], [40.293138, -75.516064], [32.69598, -117.125346], [38.024788, -121.981642], [42.46414, -73.396658], [44.112011, -121.293478], [34.090768, -118.310897], [38.492282, -122.96112], [35.39104000000001, -97.53009], [41.536882, -72.799154], [38.687208, -122.839542], [43.96013, -121.34806], [25.71484, -80.406315], [37.948964, -121.224847], [37.742983, -81.123046], [25.884512, -80.24322], [39.52323, -104.85678], [43.992286, -122.99426], [28.470067, -81.396552], [36.969207, -121.985034], [28.577874, -81.452623], [34.755498, -82.49927199999998], [35.780879, -78.629703], [41.841914, -124.022453], [35.01171, -81.9573], [37.327498, -120.25168], [36.07422800000001, -86.67698299999998], [35.330015, -120.83983700000002], [35.089401, -120.53877], [32.273893, -95.337765], [38.206248, -78.38703000000002], [35.048513, -118.172375], [33.761109000000005, -78.788248], [25.77784500000001, -80.336751], [40.34878300000001, -78.65140600000002], [35.394929, -119.158775], [33.868158, -117.838968], [28.446263, -81.402039], [32.659855, -117.09726], [33.835749, -81.820572], [36.77036500000001, -119.880287], [33.74488, -84.39703], [38.515819, -121.464075], [30.382117, -97.651373], [33.948095, -118.165396], [32.89508, -96.877243], [40.21474, -76.094091], [38.708573, -121.077871], [30.164748, -81.740832], [34.06336, -117.648021], [37.677654, -122.078572], [25.809434, -80.326649], [41.504432, -122.372742], [37.968063, -121.271075], [30.398904, -91.155161], [34.437855, -118.336122], [29.167626, -81.024541], [38.791422, -120.88251], [37.789107, -120.761241], [30.200544, -81.739586], [46.169497, -123.724511], [48.249796, -114.276268], [34.037004, -118.163811], [32.289451, -110.947355], [37.05581, -119.985308], [43.164608, -77.70835699999998], [40.885348, -121.653018], [28.48450200000001, -81.417386], [40.115485, -75.472792], [25.761817, -80.337889], [47.385933, -114.800051], [35.108934000000005, -85.230071], [33.027361, -80.538414], [39.93808, -75.16844], [35.050566, -85.145688], [27.77207000000001, -82.6371], [45.464205, -122.700244], [36.986215, -86.949635], [48.522802, -93.575202], [34.529195, -120.196537], [35.863801, -78.635532], [37.706699, -122.401135], [34.34715, -83.69604], [38.180208, -121.271307], [45.39394, -122.42451], [34.864964, -120.417172], [30.493963, -91.125287], [39.335459, -121.683345], [37.938246, -121.242837], [35.964344, -119.288438], [34.768295, -92.321853], [38.94027, -104.7247], [40.597402, -78.709487], [25.837015, -80.23119399999999], [44.27142, -124.10947], [43.98887, -91.83317], [43.50634, -121.9347], [35.791683, -78.511825], [38.900667, -77.048825], [44.940438, -93.167023], [38.510311, -121.464578], [25.494158, -80.49386], [38.573576, -121.38293600000002], [40.594293, -124.274327], [30.571035, -81.835538], [38.9586, -77.20499000000002], [25.706151, -80.288034], [33.873824, -118.361357], [37.791611, -121.54815], [41.86852, -87.74484], [33.885461, -118.36127], [34.056391999999995, -81.17084799999998], [38.424667, -121.05223], [34.033885999999995, -117.91723600000002], [35.426968, -119.068257], [33.995842, -117.906359], [25.89671400000001, -80.25801899999998], [30.606551, -87.349899], [34.304925, -81.987845], [28.436025, -81.399956], [40.072685, -75.343884], [46.636179, -92.893341], [40.13202800000001, -75.309428], [40.975234, -80.275475], [35.058027, -119.295784], [36.966623, -119.911898], [38.25046, -85.73852], [40.782579, -124.183921], [33.528148, -80.567185], [39.35823, -75.87835], [40.62122, -74.42414000000002], [42.19724, -88.00916], [34.192271000000005, -80.041882], [33.982027, -118.28751499999998], [32.491677, -86.40605], [47.797189, -122.143431], [36.992715, -120.074161], [30.728341, -85.18534], [43.21102, -77.895051], [35.325696, -120.726159], [33.57993, -112.32457], [34.042839, -81.098017], [38.60552, -121.286747], [34.087216, -117.660731], [40.87181, -74.19083], [37.344109, -119.642131], [35.426848, -119.001147], [30.29122000000001, -97.727458], [37.687335, -122.110003], [28.486795, -81.419402], [35.817832, -78.624951], [37.981715, -122.504251], [41.744817, -87.838539], [34.091854999999995, -117.928209], [45.823456, -108.395218], [33.974472, -118.227718], [25.685165, -80.419593], [36.73983, -119.249206], [44.395152, -94.408806], [38.985532, -121.109617], [29.9502, -90.073074], [35.366508, -118.948489], [39.732636, -75.982485], [29.658741, -95.583698], [30.361346, -87.35897], [43.148656, -77.612212], [34.406312, -79.371449], [42.2958, -85.675848], [40.072958, -76.308275], [44.02632, -92.78639], [33.51937, -117.621385], [25.896894, -80.181201], [29.67799, -95.60278], [34.047636, -117.398562], [43.878608, -124.130345], [33.872778000000004, -118.341992], [42.42853, -87.853931], [34.172009, -118.471597], [41.605001, -124.10156200000002], [34.60735, -82.36786500000002], [38.75917000000001, -120.84301], [30.378188, -97.635562], [40.19108, -75.53206999999998], [30.574528000000004, -87.897171], [29.94183, -90.065772], [44.34224, -92.62922], [30.4474, -97.662492], [28.417632, -81.422934], [27.447751, -82.574066], [40.134422, -75.145473], [36.090892, -86.734654], [40.06164, -82.99882], [34.003306, -118.30892], [29.171874, -81.858575], [41.56774, -87.34634], [34.222657, -119.137534], [48.883965, -95.293043], [38.24301, -122.112346], [28.491246000000004, -81.42994200000003], [34.053143, -118.963125], [42.99052800000001, -85.663241], [43.22044, -77.822], [37.477584, -122.209937], [41.115286, -74.718804], [41.26622, -96.10058], [30.449961, -91.166522], [48.025223, -114.069985], [42.24002, -87.88381], [45.252265, -123.034541], [38.704412, -120.690099], [28.425089, -81.404788], [34.691294, -120.159277], [41.082011, -77.555183], [47.1945, -93.420175], [30.386057, -97.646516], [35.883944, -77.493378], [40.277031, -80.328538], [42.913786, -85.608238], [34.132011, -117.253455], [35.1989, -80.8678], [36.146981, -86.795034], [29.636025, -95.359535], [35.41818400000001, -119.033408], [33.938387, -80.980406], [43.52984, -70.905599], [34.043549, -118.312118], [38.495807, -121.4715], [34.581344, -80.699478], [34.710888, -82.500976], [39.64738, -121.608196], [36.290822, -121.289291], [36.977351, -76.6407], [35.374207, -118.96801299999998], [39.97969000000001, -82.91309], [36.357913, -121.901165]],\n",
              "                {&quot;blur&quot;: 15, &quot;maxZoom&quot;: 18, &quot;minOpacity&quot;: 0.5, &quot;radius&quot;: 25}\n",
              "            ).addTo(map_71ce7e02867ae31de417a63c41a4a6aa);\n",
              "        \n",
              "&lt;/script&gt;\n",
              "&lt;/html&gt;\" style=\"position:absolute;width:100%;height:100%;left:0;top:0;border:none !important;\" allowfullscreen webkitallowfullscreen mozallowfullscreen></iframe></div></div>"
            ]
          },
          "metadata": {},
          "execution_count": 20
        }
      ],
      "source": [
        "HeatMap(lat_lng_pairs).add_to(map)\n",
        "map"
      ]
    },
    {
      "cell_type": "code",
      "execution_count": 21,
      "metadata": {
        "id": "CBFQgK_Cf7y8"
      },
      "outputs": [],
      "source": [
        "our_df[\"Start_Time\"] = our_df[\"Start_Time\"].astype('datetime64[ns]')\n"
      ]
    },
    {
      "cell_type": "code",
      "execution_count": 22,
      "metadata": {
        "id": "9KyccJ0uh4zu"
      },
      "outputs": [],
      "source": [
        "acc_days = our_df[\"Start_Time\"].dt.day\n",
        "acc_day_of_weeks = our_df[\"Start_Time\"].dt.day_of_week\n",
        "acc_hours = our_df[\"Start_Time\"].dt.hour\n",
        "acc_years = our_df[\"Start_Time\"].dt.year\n",
        "acc_months = our_df[\"Start_Time\"].dt.month"
      ]
    },
    {
      "cell_type": "markdown",
      "source": [
        "## most of the accidents hapened in last day in the month"
      ],
      "metadata": {
        "id": "jVuBch1aP9k-"
      }
    },
    {
      "cell_type": "code",
      "execution_count": 23,
      "metadata": {
        "colab": {
          "base_uri": "https://localhost:8080/",
          "height": 338
        },
        "id": "V-VenT9tjz9F",
        "outputId": "67123c08-0ba1-4c22-865d-b4adacf36e2e"
      },
      "outputs": [
        {
          "output_type": "execute_result",
          "data": {
            "text/plain": [
              "<AxesSubplot:ylabel='Frequency'>"
            ]
          },
          "metadata": {},
          "execution_count": 23
        },
        {
          "output_type": "display_data",
          "data": {
            "text/plain": [
              "<Figure size 720x360 with 1 Axes>"
            ],
            "image/png": "[encoded data removed]"
          },
          "metadata": {
            "needs_background": "light"
          }
        }
      ],
      "source": [
        "acc_days.plot(kind=\"hist\")"
      ]
    },
    {
      "cell_type": "markdown",
      "source": [
        "## Most of the accidents happened in wensday"
      ],
      "metadata": {
        "id": "g3-W16dbQHDY"
      }
    },
    {
      "cell_type": "code",
      "execution_count": 24,
      "metadata": {
        "colab": {
          "base_uri": "https://localhost:8080/",
          "height": 338
        },
        "id": "CshrAD4xlJs9",
        "outputId": "e175675e-4b10-47d8-90bd-87b2c52c40dc"
      },
      "outputs": [
        {
          "output_type": "execute_result",
          "data": {
            "text/plain": [
              "<AxesSubplot:ylabel='Frequency'>"
            ]
          },
          "metadata": {},
          "execution_count": 24
        },
        {
          "output_type": "display_data",
          "data": {
            "text/plain": [
              "<Figure size 720x360 with 1 Axes>"
            ],
            "image/png": "[encoded data removed]"
          },
          "metadata": {
            "needs_background": "light"
          }
        }
      ],
      "source": [
        "acc_day_of_weeks.plot(kind=\"hist\", bins=7)\n"
      ]
    },
    {
      "cell_type": "markdown",
      "source": [
        "## the time of most of the accidents happened in range [1, 5] PM"
      ],
      "metadata": {
        "id": "EFtlAu6jQbNn"
      }
    },
    {
      "cell_type": "code",
      "execution_count": 25,
      "metadata": {
        "colab": {
          "base_uri": "https://localhost:8080/",
          "height": 338
        },
        "id": "PI37RL6XlNbp",
        "outputId": "83f9257c-e466-4d32-9290-623961f8d59e"
      },
      "outputs": [
        {
          "output_type": "execute_result",
          "data": {
            "text/plain": [
              "<AxesSubplot:ylabel='Frequency'>"
            ]
          },
          "metadata": {},
          "execution_count": 25
        },
        {
          "output_type": "display_data",
          "data": {
            "text/plain": [
              "<Figure size 720x360 with 1 Axes>"
            ],
            "image/png": "[encoded data removed]"
          },
          "metadata": {
            "needs_background": "light"
          }
        }
      ],
      "source": [
        "acc_hours.plot(kind=\"hist\", bins=24)\n"
      ]
    },
    {
      "cell_type": "markdown",
      "source": [
        "## Number of accidents raise a lot in 2021 reletive to previous years"
      ],
      "metadata": {
        "id": "oAInsXMJQ8F3"
      }
    },
    {
      "cell_type": "code",
      "execution_count": 26,
      "metadata": {
        "colab": {
          "base_uri": "https://localhost:8080/",
          "height": 338
        },
        "id": "-f9zbxn0lZbr",
        "outputId": "16637f11-746c-4c58-f687-beedafb3f0e2"
      },
      "outputs": [
        {
          "output_type": "execute_result",
          "data": {
            "text/plain": [
              "<AxesSubplot:ylabel='Frequency'>"
            ]
          },
          "metadata": {},
          "execution_count": 26
        },
        {
          "output_type": "display_data",
          "data": {
            "text/plain": [
              "<Figure size 720x360 with 1 Axes>"
            ],
            "image/png": "[encoded data removed]"
          },
          "metadata": {
            "needs_background": "light"
          }
        }
      ],
      "source": [
        "acc_years.plot(kind=\"hist\",bins=5, logy=True)"
      ]
    },
    {
      "cell_type": "markdown",
      "source": [
        "## Most of the accidents happened in last month of the year"
      ],
      "metadata": {
        "id": "k5mdRWumRF1u"
      }
    },
    {
      "cell_type": "code",
      "execution_count": 27,
      "metadata": {
        "colab": {
          "base_uri": "https://localhost:8080/",
          "height": 338
        },
        "id": "wWyM_223lhuC",
        "outputId": "ea1f8612-be65-45ab-822b-e16b28a0cffa"
      },
      "outputs": [
        {
          "output_type": "execute_result",
          "data": {
            "text/plain": [
              "<AxesSubplot:ylabel='Frequency'>"
            ]
          },
          "metadata": {},
          "execution_count": 27
        },
        {
          "output_type": "display_data",
          "data": {
            "text/plain": [
              "<Figure size 720x360 with 1 Axes>"
            ],
            "image/png": "[encoded data removed]"
          },
          "metadata": {
            "needs_background": "light"
          }
        }
      ],
      "source": [
        "acc_months.plot(kind=\"hist\",bins=12)"
      ]
    },
    {
      "cell_type": "markdown",
      "source": [
        "## function for calculate the distence between the start position and the end position of the accidents"
      ],
      "metadata": {
        "id": "VKaq67XORz1f"
      }
    },
    {
      "cell_type": "code",
      "execution_count": 28,
      "metadata": {
        "id": "CSW5bg95mEzD"
      },
      "outputs": [],
      "source": [
        "# vectorized haversine function\n",
        "def haversine(lat1, lon1, lat2, lon2, to_radians=True, earth_radius=6371):\n",
        "    if to_radians:\n",
        "        lat1, lon1, lat2, lon2 = np.radians([lat1, lon1, lat2, lon2])\n",
        "\n",
        "    a = np.sin((lat2-lat1)/2.0)**2 + \\\n",
        "        np.cos(lat1) * np.cos(lat2) * np.sin((lon2-lon1)/2.0)**2\n",
        "\n",
        "    return earth_radius * 2 * np.arcsin(np.sqrt(a))\n",
        "\n",
        "\n",
        "our_df['dist'] = \\\n",
        "    haversine(our_df.Start_Lat.shift(), our_df.Start_Lng.shift(),\n",
        "                 our_df.End_Lat, our_df.End_Lat)"
      ]
    },
    {
      "cell_type": "code",
      "execution_count": 29,
      "metadata": {
        "colab": {
          "base_uri": "https://localhost:8080/",
          "height": 338
        },
        "id": "xVmQsKQKSHcQ",
        "outputId": "f729af93-b069-419e-dc88-266b08ce62f8"
      },
      "outputs": [
        {
          "output_type": "execute_result",
          "data": {
            "text/plain": [
              "<AxesSubplot:ylabel='Frequency'>"
            ]
          },
          "metadata": {},
          "execution_count": 29
        },
        {
          "output_type": "display_data",
          "data": {
            "text/plain": [
              "<Figure size 720x360 with 1 Axes>"
            ],
            "image/png": "[encoded data removed]"
          },
          "metadata": {
            "needs_background": "light"
          }
        }
      ],
      "source": [
        "plt.xticks(np.arange(0, 13000, 500))\n",
        "our_df[\"dist\"].plot(kind=\"hist\")"
      ]
    },
    {
      "cell_type": "code",
      "execution_count": 29,
      "metadata": {
        "id": "oc3VrBdOXHzv"
      },
      "outputs": [],
      "source": []
    }
  ],
  "metadata": {
    "colab": {
      "provenance": [],
      "authorship_tag": "ABX9TyNTemRsevU4gl//F0ZZV+W4",
      "include_colab_link": true
    },
    "kernelspec": {
      "display_name": "Python 3",
      "name": "python3"
    },
    "language_info": {
      "name": "python"
    }
  },
  "nbformat": 4,
  "nbformat_minor": 0
}